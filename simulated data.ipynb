{
 "cells": [
  {
   "cell_type": "code",
   "execution_count": 14,
   "id": "b4394f2a",
   "metadata": {},
   "outputs": [
    {
     "name": "stdout",
     "output_type": "stream",
     "text": [
      "-5.731448621812263 13.925266690308664\n",
      "[13.22998517 11.29359207  7.57203131  4.78403673  6.3272961   2.63601846]\n"
     ]
    }
   ],
   "source": [
    "#code used to generate red noise simulated data data\n",
    "%matplotlib qt\n",
    "import colorednoise as cn\n",
    "import matplotlib.pyplot as plt\n",
    "import numpy as np\n",
    "from scipy.stats import linregress\n",
    "\n",
    "n=50 #no. of data points\n",
    "label=\"data0.txt\" #name of the the file for data to be saved\n",
    "\n",
    "efac=1.0\n",
    "equad=0.0\n",
    "offset=0.0\n",
    "err = np.ones(n)*0.5\n",
    "err_true=np.sqrt((efac*err)**2+equad**2)\n",
    "mjd = np.linspace(0,99,n)\n",
    "mag = offset+np.random.randn(n)*0.5\n",
    "magred=np.ones(n)*offset\n",
    "\n",
    "\n",
    "data=[]\n",
    "for i in range(n):\n",
    "    data.append([mjd[i],mag[i],err[i],magred[i]])\n",
    "\n",
    "np.savetxt(label,data,fmt=(\"%f\",\"%f\",\"%f\",\"%f\"))\n",
    "\n",
    "fft=np.fft.rfft(mag)\n",
    "x=np.arange(1,len(fft)+1)\n",
    "x=np.log(x)\n",
    "y=np.log(np.abs(fft)**2)\n",
    "\n",
    "plt.subplot(3,1,1)\n",
    "plt.errorbar(mjd,mag,yerr=err,fmt='.')\n",
    "plt.subplot(3,1,2)\n",
    "plt.scatter(x,y)\n",
    "plt.subplot(3,1,3)\n",
    "plt.scatter(x,np.log(np.abs(np.fft.rfft(magred))**2))\n",
    "plt.show()\n",
    "\n",
    "slope, intercept, r_value, p_value, std_err = linregress(x[0:6],y[0:6])\n",
    "print(slope,intercept)\n",
    "print(np.log(np.abs(np.fft.rfft(magred))**2)[0:6])"
   ]
  }
 ],
 "metadata": {
  "kernelspec": {
   "display_name": "Python 3 (ipykernel)",
   "language": "python",
   "name": "python3"
  },
  "language_info": {
   "codemirror_mode": {
    "name": "ipython",
    "version": 3
   },
   "file_extension": ".py",
   "mimetype": "text/x-python",
   "name": "python",
   "nbconvert_exporter": "python",
   "pygments_lexer": "ipython3",
   "version": "3.8.12"
  }
 },
 "nbformat": 4,
 "nbformat_minor": 5
}
